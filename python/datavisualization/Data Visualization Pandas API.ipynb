{
 "cells": [
  {
   "cell_type": "markdown",
   "id": "430927f7-434d-4bc7-814b-bad72ec130a8",
   "metadata": {},
   "source": [
    "# Overview\n",
    "\n",
    "This example demonstrates how to create several types of data visualizations using Python libraries based on data that has been preprocessed using CAS actions. The data used for this example is 28,347 crime incidents in 2021 provided by the City of Washington, DC.\n",
    "\n",
    "The data can be obtained from https://support.sas.com/documentation/onlinedoc/viya/exampledatasets/Crime_Incidents_in_2021.csv and is originally from https://opendata.dc.gov/datasets/DCGIS::crime-incidents-in-2021/about."
   ]
  },
  {
   "cell_type": "markdown",
   "id": "c03cb6e0-5e90-4115-b657-ff701c8bab1d",
   "metadata": {
    "tags": []
   },
   "source": [
    "# Load the SWAT Library and Connect to the CAS Server\n",
    "\n",
    "Load the SWAT library and then create a connection to the CAS server using the CAS function and assign the CAS connection object to the variable s. The first argument specifies the host name, and the second argument specifies the port."
   ]
  },
  {
   "cell_type": "code",
   "execution_count": null,
   "id": "fd705971-554d-4f1e-8f78-cc4955f9e1b2",
   "metadata": {},
   "outputs": [],
   "source": [
    "import swat\n",
    "# change the host and port to match your site\n",
    "s = swat.CAS(\"cloud.example.com\", 10065)"
   ]
  },
  {
   "cell_type": "markdown",
   "id": "d6118f14-e0cc-4281-8496-19acab64fb83",
   "metadata": {},
   "source": [
    "# Load the Data\n",
    "\n",
    "There are two methods that can be used to load a data file. The first method is to load the data from a caslib (server-side load). The second method is to load the data from a location that is accessible to the CAS server but not associated with a caslib (client-side load)."
   ]
  },
  {
   "cell_type": "markdown",
   "id": "c195690f-d9e7-413c-a334-d1dd2d668047",
   "metadata": {},
   "source": [
    "## Load the Data from a Caslib\n",
    "\n",
    "The default method of loading data is to load the data from the data source portion of a caslib, which is known as a server-side load. This requires the data file to be saved in the active caslib (Casuser). Once the file has been saved to the caslib, use the table.loadTable action to load the Crime_Incidents_in_2021.csv file from the data source portion of the caslib into memory as a CAS table named crimes."
   ]
  },
  {
   "cell_type": "code",
   "execution_count": null,
   "id": "ad830447-4fa8-4db1-a70b-29616b2eede2",
   "metadata": {},
   "outputs": [],
   "source": [
    "s.table.loadTable(path=\"Crime_Incidents_in_2021.csv\",\n",
    "                  caslib=\"casuser\",\n",
    "                  casOut={\"name\":\"crimes\", \n",
    "                          \"caslib\":\"casuser\",\n",
    "                          \"replace\":True},\n",
    "                  importOptions={\"fileType\":\"CSV\",\n",
    "                                 \"encoding\":\"latin1\",\n",
    "                                 \"guessrows\":30000,\n",
    "                                 \"vars\":{\"ward\":{\"type\":\"varchar\"}}})"
   ]
  },
  {
   "cell_type": "markdown",
   "id": "cb1c5312-57bf-41b8-880f-26167d50d1fc",
   "metadata": {},
   "source": [
    "## Load a Client-Side Data File into CAS\n",
    "\n",
    "Another method of loading data into CAS memory is to load the data from an external source that is accessible to the CAS server. This example uses the SWAT upload_file method to perform a client-side load."
   ]
  },
  {
   "cell_type": "code",
   "execution_count": null,
   "id": "0cd69644-e5bd-4632-bf6b-e00f0d6dcf7a",
   "metadata": {},
   "outputs": [],
   "source": [
    "tbl = s.upload_file(\"https://support.sas.com/documentation/onlinedoc/viya/exampledatasets/Crime_Incidents_in_2021.csv\",  \n",
    "                    casOut={'name':'crimes',\n",
    "                            'caslib':'casuser',\n",
    "                            'replace':True},\n",
    "                    importOptions={\"fileType\":\"csv\",\n",
    "                                   \"encoding\":\"latin1\",\n",
    "                                   \"guessRows\":\"10000\",\n",
    "                                   \"vars\":{\"ward\":{\"type\":\"varchar\"}}})"
   ]
  },
  {
   "cell_type": "markdown",
   "id": "bc11a347-7ffd-4ed3-a792-c772ba4b764a",
   "metadata": {},
   "source": [
    "# Explore the Data"
   ]
  },
  {
   "cell_type": "markdown",
   "id": "e31f2d41-9d1b-4a6e-91ab-850cf5ef125d",
   "metadata": {},
   "source": [
    "## Create a Reference to an In-Memory Table\n",
    "\n",
    "Use the CASTable function to reference the crimes table and save the result in a object named tbl. Therefore, any action or method that is run on the CASTable object tbl will include the parameters in tbl."
   ]
  },
  {
   "cell_type": "code",
   "execution_count": null,
   "id": "1dd2745c-0777-487e-9d5a-c54b72e2172f",
   "metadata": {},
   "outputs": [],
   "source": [
    "tbl = s.CASTable(name='crimes', caslib='casuser')"
   ]
  },
  {
   "cell_type": "markdown",
   "id": "8ed97d96-6781-40ce-b315-aefadc0c7459",
   "metadata": {},
   "source": [
    "## Examine the Rows\n",
    "\n",
    "Run the head() function to retrieve the first five rows from the crimes table."
   ]
  },
  {
   "cell_type": "code",
   "execution_count": null,
   "id": "2b9116ac-8b54-44b3-a3b5-bbd30d7f1c14",
   "metadata": {},
   "outputs": [],
   "source": [
    "tbl.head(n=5)"
   ]
  },
  {
   "cell_type": "markdown",
   "id": "382bc165-cce7-4bd1-9890-19f7c305d58b",
   "metadata": {},
   "source": [
    "## Examine the Columns\n",
    "\n",
    "Use the table.columnInfo action to obtain metadata about the table. The result includes the names of columns, and information about each column, including its label (if applicable), type, length, and format. "
   ]
  },
  {
   "cell_type": "code",
   "execution_count": null,
   "id": "6800d71f-651b-4474-bb5e-1cdbdebba2e9",
   "metadata": {},
   "outputs": [],
   "source": [
    "tbl.info()"
   ]
  },
  {
   "cell_type": "markdown",
   "id": "529985d4-2932-4041-a348-67e08cc49b84",
   "metadata": {},
   "source": [
    "## Examine Unique and Missing Values\n",
    "\n",
    "Run the simple.distinct action to identify the number of distinct values and the number of missing values for each column."
   ]
  },
  {
   "cell_type": "code",
   "execution_count": null,
   "id": "8c04af0d-3fdc-4e58-b00b-5a768291c6dc",
   "metadata": {},
   "outputs": [],
   "source": [
    "tbl.distinct()"
   ]
  },
  {
   "cell_type": "markdown",
   "id": "db7f2a78-2fac-4bcb-9bb9-219d4d3fc4a5",
   "metadata": {},
   "source": [
    "# Visualize the Data \n",
    "\n",
    "The SWAT package and other libraries in Python can be used to visualize data that has been preprocessed using CAS actions. This example demonstrates how to create several common types of data visualizations, including a bar chart, histogram, box plot, and line plot."
   ]
  },
  {
   "cell_type": "markdown",
   "id": "2efe2791-8ba7-42c5-be0e-211129a93cec",
   "metadata": {},
   "source": [
    "## Import Libraries\n",
    "\n",
    "Import the pandas, matplotlib, and seaborn libraries."
   ]
  },
  {
   "cell_type": "code",
   "execution_count": null,
   "id": "03befcff-efab-4935-a17d-b4dae2d73ffe",
   "metadata": {},
   "outputs": [],
   "source": [
    "import pandas as pd\n",
    "import matplotlib.pyplot as plt\n",
    "import seaborn as sns"
   ]
  },
  {
   "cell_type": "markdown",
   "id": "22879359-7e4b-4426-932c-f5b6adb9abe7",
   "metadata": {},
   "source": [
    "## Create a Bar Chart \n",
    "\n",
    "Create a bar chart that shows the number of crime incidents by the shift variable."
   ]
  },
  {
   "cell_type": "markdown",
   "id": "dc461eca-a5f7-4a40-bd66-2e9ce6af929f",
   "metadata": {},
   "source": [
    "### Aggregate the Data \n",
    "\n",
    "First, use the value_counts SWAT method to count the number of rows by shift and save the resulting pandas Series to an object named df_shift. The value_counts SWAT method mimics the pandas value counts method but runs in the distributed CAS server."
   ]
  },
  {
   "cell_type": "code",
   "execution_count": null,
   "id": "fb58d351-f1b5-450c-b10e-69432ff5237e",
   "metadata": {},
   "outputs": [],
   "source": [
    "df_shift = tbl[\"SHIFT\"].value_counts()\n",
    "display(df_shift)"
   ]
  },
  {
   "cell_type": "markdown",
   "id": "cb8fbd44-2f22-4436-92f4-9a64741b1893",
   "metadata": {},
   "source": [
    "### Plot the Data\n",
    "\n",
    "Use the plt.subplots() function to create a bar chart with the shift (index) on the X-axis and frequency counts on the Y-axis. Specify axis labels, title, and subtitle."
   ]
  },
  {
   "cell_type": "code",
   "execution_count": null,
   "id": "4665e6eb-2097-4a4e-a996-87fd98e26cf3",
   "metadata": {},
   "outputs": [],
   "source": [
    "fig, ax = plt.subplots()\n",
    "ax.bar(df_shift.index, df_shift.values)\n",
    "ax.set_title('Number of Crime Incidents by Shift \\n Washington DC 2021')\n",
    "ax.set_ylabel('Number of Crime Incidents')\n",
    "ax.set_xlabel('Shift')"
   ]
  },
  {
   "cell_type": "markdown",
   "id": "69025e03-3301-4088-bb94-a4057771c4d9",
   "metadata": {},
   "source": [
    "## Create a Histogram\n",
    "\n",
    "Create a histogram to show the distribution of crime incidents by the count of voting precincts."
   ]
  },
  {
   "cell_type": "markdown",
   "id": "25bcde20-12c6-4261-81a2-e3e25315a514",
   "metadata": {},
   "source": [
    "### Aggregate the Data\n",
    "\n",
    "Use the value_counts SWAT method to count the number of rows by voting precinct and save the resulting pandas Series to an object named df_vp."
   ]
  },
  {
   "cell_type": "code",
   "execution_count": null,
   "id": "5b8ccf00-2818-497f-82ff-948dc2ab6d14",
   "metadata": {},
   "outputs": [],
   "source": [
    "df_vp = tbl[\"VOTING_PRECINCT\"].value_counts()\n",
    "df_vp"
   ]
  },
  {
   "cell_type": "markdown",
   "id": "96a084ba-ff23-47a7-96dd-6c68c98da5ee",
   "metadata": {},
   "source": [
    "### Plot the Data"
   ]
  },
  {
   "cell_type": "markdown",
   "id": "0c1354e3-2245-4b90-83c0-b3887c00c96c",
   "metadata": {},
   "source": [
    "Use the plt.subplots() function and the hist method to plot the values of df_vp. Specify axis labels, title, and subtitle. "
   ]
  },
  {
   "cell_type": "code",
   "execution_count": null,
   "id": "0d6bf25e-61cc-43a5-a8d1-dc715c5a49f0",
   "metadata": {},
   "outputs": [],
   "source": [
    "# Fig, ax method\n",
    "\n",
    "fig, ax = plt.subplots()\n",
    "ax.hist(df_vp.values, bins=25, edgecolor='black', linewidth=1)\n",
    "ax.set_xlabel(\"Number of Crime Incidents\")\n",
    "ax.set_ylabel(\"Number of Voting Precincts\")\n",
    "ax.yaxis.set(ticks=range(0, 41, 10))\n",
    "plt.suptitle(\"Distribution of the Frequency of Crime Incidents by Voting Precincts\")\n",
    "plt.title(\"Washington, DC 2021\")\n",
    "plt.show()"
   ]
  },
  {
   "cell_type": "markdown",
   "id": "f44936d6-ceeb-4564-a560-551656e6216b",
   "metadata": {},
   "source": [
    "## Create a Box Plot\n",
    "\n",
    "Create a box plot that shows summary statistics for the number of crime incidents among neighborhood clusters by ward."
   ]
  },
  {
   "cell_type": "markdown",
   "id": "fdf18895-31ee-46e6-b3eb-c76ab50ece15",
   "metadata": {},
   "source": [
    "### Aggregate the Data \n",
    "\n",
    "Use the pandas groupby() method to count the number of observations (using the CCN variable) by each neighborhood cluster and ward, and reset the index. "
   ]
  },
  {
   "cell_type": "code",
   "execution_count": null,
   "id": "651bd7c7-c385-45d7-bf74-fad01ee9ed37",
   "metadata": {},
   "outputs": [],
   "source": [
    "df_nc_ward = tbl.groupby([\"NEIGHBORHOOD_CLUSTER\", \"WARD\"])[\"CCN\"].count()\n",
    "df_nc_ward = df_nc_ward.reset_index()\n",
    "df_nc_ward"
   ]
  },
  {
   "cell_type": "markdown",
   "id": "99f45d42-e428-4724-93d2-cb4586ae2885",
   "metadata": {},
   "source": [
    "### Plot the Data\n",
    "\n",
    "Use the sns.boxplot() function from the Seaborn library to create vertical box plots to show the summary statistics for number of crime incidents among neighborhood clusters by ward. Specify WARD_f as the X-axis variable and _CCN_Summary_NObs_ as the Y-axis variable. Specify the axis labels, title, and subtitle."
   ]
  },
  {
   "cell_type": "code",
   "execution_count": null,
   "id": "1a919157-133d-4263-814d-3cc239802c38",
   "metadata": {},
   "outputs": [],
   "source": [
    "# Seaborn method\n",
    "\n",
    "g = sns.boxplot(x=df_nc_ward[\"WARD\"],\n",
    "                y=df_nc_ward[\"CCN\"])\n",
    "g.set(xlabel=\"Ward\",\n",
    "      ylabel=\"Number of Crime Incidents\")\n",
    "g.yaxis.grid(True)\n",
    "g.set_axisbelow(True)\n",
    "plt.suptitle(\"Box Plot of Crime Incidents by Ward\")\n",
    "plt.title(\"Neighborhood Clusters in Washington DC, 2021\")"
   ]
  },
  {
   "cell_type": "markdown",
   "id": "94893b25-8ff4-4fe6-805f-744d02f04b53",
   "metadata": {},
   "source": [
    "## Create a Line Plot\n",
    "\n",
    "Create a line plot to show the number of crime incidents by month in 2021."
   ]
  },
  {
   "cell_type": "markdown",
   "id": "3227d280-c4ab-492d-ac11-20b723a6d48b",
   "metadata": {},
   "source": [
    "### Create a Date Variable"
   ]
  },
  {
   "cell_type": "markdown",
   "id": "03bec28a-c251-44c0-93b4-49c281e5e159",
   "metadata": {},
   "source": [
    "In order to aggregate data by a date variable, it is necessary to convert the date column from character to numeric data type with a date format. \n",
    "First, use the SWAT eval function to create a new column named date that extracts the date value in front of the delimiter \"+\" with the informat 'ANYDTDTM.'.\n",
    "Use the copyTable action to create a new table named crimes_date from the crimes table.\n",
    "Use the CASTable function to create a reference to the crimes_date table and save the result to an object name tbl_date. \n",
    "Use the alterTable action to assign the display format 'date9.' to the date column in the crimes_date table. "
   ]
  },
  {
   "cell_type": "code",
   "execution_count": null,
   "id": "d465c37e-2af8-4d94-8e60-69d776300816",
   "metadata": {},
   "outputs": [],
   "source": [
    "tbl.eval(\"date = datepart(inputn(scan(REPORT_DAT,1,'+'), 'ANYDTDTM.'))\")"
   ]
  },
  {
   "cell_type": "code",
   "execution_count": null,
   "id": "19873376-0015-4218-9ad0-75883d2932d8",
   "metadata": {},
   "outputs": [],
   "source": [
    "tbl.copyTable(casout={'name':'crimes_date','caslib':'casuser', 'replace':True})"
   ]
  },
  {
   "cell_type": "code",
   "execution_count": null,
   "id": "77e495c1-5179-403f-ae51-779341d19147",
   "metadata": {},
   "outputs": [],
   "source": [
    "tbl_date = s.CASTable(name='crimes_date', caslib='casuser')"
   ]
  },
  {
   "cell_type": "code",
   "execution_count": null,
   "id": "1f454492-7fa8-4dc5-b566-62dd1a8d598c",
   "metadata": {},
   "outputs": [],
   "source": [
    "tbl_date.alterTable(columns = [{'name':'date', 'format':'date9.'}])"
   ]
  },
  {
   "cell_type": "code",
   "execution_count": null,
   "id": "ef097102-634a-4ee5-b5bc-f7dd166b1ee7",
   "metadata": {},
   "outputs": [],
   "source": [
    "tbl_date.columnInfo()"
   ]
  },
  {
   "cell_type": "markdown",
   "id": "d5ae314d-7050-4771-9723-82e9bc376923",
   "metadata": {},
   "source": [
    "### Aggregate the Data\n",
    "\n",
    "Run the aggregation.aggregate action to count the number of rows by month and save the resulting output as a table named CrimesByMonth. Create a CAS Table object tbl_month to reference the CrimesByMonth table."
   ]
  },
  {
   "cell_type": "code",
   "execution_count": null,
   "id": "d4192822-56be-4882-b5c5-00682ff7685e",
   "metadata": {},
   "outputs": [],
   "source": [
    "s.builtins.loadActionSet(\"aggregation\")\n",
    "\n",
    "s.aggregation.aggregate(table={\"name\":\"crimes_date\",                                                                  \n",
    "                               \"caslib\":\"casuser\",\n",
    "                               \"groupBy\":{\"date\"}},                                              \n",
    "                        varSpecs=[{\"name\":\"CCN\",                                                                    \n",
    "                                   \"subset\":{\"N\"}}],\n",
    "                        ID=\"date\",                                                            \n",
    "                        interval=\"MONTH\",                                                                          \n",
    "                        casOut={\"name\":\"CrimesByMonth\",                                                     \n",
    "                                \"caslib\":\"casuser\",\n",
    "                                \"replace\":True})\n",
    "\n",
    "tbl_month = s.CASTable(name='CrimesByMonth', caslib='casuser')"
   ]
  },
  {
   "cell_type": "markdown",
   "id": "fa10a287-d1fb-4ea8-8958-e555bcfa7e38",
   "metadata": {},
   "source": [
    "### View the Rows\n",
    "\n",
    "Use the head function to return only the first 12 rows from the CrimesByMonth table and assign the result to the object df_month. This will exclude the one row containing data from January 2022."
   ]
  },
  {
   "cell_type": "code",
   "execution_count": null,
   "id": "569a8c43-4089-4d36-b9c6-2ef9eeb4aebb",
   "metadata": {},
   "outputs": [],
   "source": [
    "df_month = tbl_month.head(n=12)\n",
    "df_month"
   ]
  },
  {
   "cell_type": "markdown",
   "id": "34c38cbe-962f-4b5f-bf69-fc590aef45b0",
   "metadata": {},
   "source": [
    "### Plot the Data\n",
    "\n",
    "Convert the date column to datetime and then use the dt.to_period method to extract only the month and year values from the date column and store the values in a column named month_year. Convert the column to a string type."
   ]
  },
  {
   "cell_type": "code",
   "execution_count": null,
   "id": "0c10879d-40c1-4c48-acf0-c14672f913eb",
   "metadata": {},
   "outputs": [],
   "source": [
    "df_month['date'] = pd.to_datetime(df_month['date'])\n",
    "df_month['month_year'] = df_month['date'].dt.to_period('M')\n",
    "df_month['month_year'] = df_month['month_year'].astype(str)"
   ]
  },
  {
   "cell_type": "code",
   "execution_count": null,
   "id": "d481d628-9432-4bfe-9125-201075a01442",
   "metadata": {},
   "outputs": [],
   "source": [
    "df_month"
   ]
  },
  {
   "cell_type": "markdown",
   "id": "537c6252-298d-4388-a083-a6d21ff36026",
   "metadata": {},
   "source": [
    "Use the plt.subplots() function and the plot method to create a line plot with month_year as the X-axis variable and _CCN_Summary_NObs_ as the Y-axis variable. Specify axis labels, title, and subtitle."
   ]
  },
  {
   "cell_type": "code",
   "execution_count": null,
   "id": "e8142f11-9c9a-4019-a8dc-411b6bcab85f",
   "metadata": {},
   "outputs": [],
   "source": [
    "# Fig, ax method\n",
    "\n",
    "fig, ax = plt.subplots()\n",
    "\n",
    "ax.plot(df_month[\"month_year\"], df_month[\"_CCN_Summary_NObs_\"], marker='.')\n",
    "ax.set_xlabel(\"Month\")\n",
    "ax.set_ylabel(\"Number of Crime Incidents\")\n",
    "plt.xticks(rotation=45)\n",
    "plt.suptitle(\"Number of Crime Incidents by Month\")\n",
    "plt.title(\"Washington, DC 2021\")\n",
    "plt.show()"
   ]
  }
 ],
 "metadata": {
  "kernelspec": {
   "display_name": "Python 3 (ipykernel)",
   "language": "python",
   "name": "python3"
  },
  "language_info": {
   "codemirror_mode": {
    "name": "ipython",
    "version": 3
   },
   "file_extension": ".py",
   "mimetype": "text/x-python",
   "name": "python",
   "nbconvert_exporter": "python",
   "pygments_lexer": "ipython3",
   "version": "3.9.7"
  }
 },
 "nbformat": 4,
 "nbformat_minor": 5
}
